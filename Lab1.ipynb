{
 "cells": [
  {
   "cell_type": "code",
   "execution_count": 1,
   "id": "b70979f9-4f71-4f25-ad89-8214144e65f4",
   "metadata": {},
   "outputs": [
    {
     "name": "stdin",
     "output_type": "stream",
     "text": [
      "Enter the number to search:  30\n"
     ]
    },
    {
     "name": "stdout",
     "output_type": "stream",
     "text": [
      "Element found at index:  2\n"
     ]
    }
   ],
   "source": [
    "def linear_search(arr,n):\n",
    "    for i in range(len(arr)):\n",
    "        if arr[i] == n:\n",
    "            return i\n",
    "    return -1\n",
    "arr = [10,20,30,40,50]\n",
    "n = int(input(\"Enter the number to search: \"))\n",
    "result = linear_search(arr,n)\n",
    "if result == -1:\n",
    "    print(\"Element not found in array\")\n",
    "else:\n",
    "    print(\"Element found at index: \",result)"
   ]
  },
  {
   "cell_type": "code",
   "execution_count": null,
   "id": "9b1ac000-b84e-463f-b252-f7d05ec3b863",
   "metadata": {},
   "outputs": [],
   "source": []
  }
 ],
 "metadata": {
  "kernelspec": {
   "display_name": "Python [conda env:base] *",
   "language": "python",
   "name": "conda-base-py"
  },
  "language_info": {
   "codemirror_mode": {
    "name": "ipython",
    "version": 3
   },
   "file_extension": ".py",
   "mimetype": "text/x-python",
   "name": "python",
   "nbconvert_exporter": "python",
   "pygments_lexer": "ipython3",
   "version": "3.12.7"
  }
 },
 "nbformat": 4,
 "nbformat_minor": 5
}
