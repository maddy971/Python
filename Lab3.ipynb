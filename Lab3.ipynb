{
 "cells": [
  {
   "cell_type": "code",
   "execution_count": 1,
   "id": "3484e50a-af5e-40b9-8253-de6f966cfc22",
   "metadata": {},
   "outputs": [
    {
     "name": "stdout",
     "output_type": "stream",
     "text": [
      "Name:  John\n",
      "Salary:  5000\n",
      "New Salary:  6000\n"
     ]
    }
   ],
   "source": [
    "#Lab3 Encapsulation\n",
    "class Employee:\n",
    "    def __init__(self,name,salary):\n",
    "        self.__name=name\n",
    "        self.__salary=salary\n",
    "\n",
    "    def get_name(self):\n",
    "        return self.__name\n",
    "\n",
    "    def get_salary(self):\n",
    "        return self.__salary\n",
    "\n",
    "    def set_name(self,name):\n",
    "        self.__name=name\n",
    "\n",
    "    def set_salary(self,salary):\n",
    "        self.__salary=salary\n",
    "\n",
    "emp1=Employee(\"John\",5000)\n",
    "print(\"Name: \",emp1.get_name())\n",
    "print(\"Salary: \",emp1.get_salary())\n",
    "emp1.set_salary(6000)\n",
    "print(\"New Salary: \",emp1.get_salary())"
   ]
  },
  {
   "cell_type": "code",
   "execution_count": 5,
   "id": "6816384d-ae6f-410b-a8e2-0b72e17c0785",
   "metadata": {},
   "outputs": [
    {
     "name": "stdout",
     "output_type": "stream",
     "text": [
      "Dog name:  Tommy\n",
      "Dog Breed:  Bulldog\n",
      "Dog barks\n"
     ]
    }
   ],
   "source": [
    "#Lab3 Inheritance\n",
    "class Animal:\n",
    "    def __init__(self,name):\n",
    "        self.name=name\n",
    "\n",
    "    def speak(self):\n",
    "        print(\"Animal Speaks\")\n",
    "\n",
    "class Dog(Animal):\n",
    "    def __init__(self,name,breed):\n",
    "        super().__init__(name)\n",
    "        self.breed=breed\n",
    "\n",
    "    def speak(self):\n",
    "        print(\"Dog barks\")\n",
    "\n",
    "dog1=Dog(\"Tommy\",\"Bulldog\")\n",
    "print(\"Dog name: \",dog1.name)\n",
    "print(\"Dog Breed: \",dog1.breed)\n",
    "dog1.speak()"
   ]
  },
  {
   "cell_type": "code",
   "execution_count": 7,
   "id": "3e3d2605-bcf5-4df8-8b28-cb8a2e0c6289",
   "metadata": {},
   "outputs": [
    {
     "name": "stdout",
     "output_type": "stream",
     "text": [
      "Result of addition:  30\n",
      "Result of addition:  60\n"
     ]
    }
   ],
   "source": [
    "#Lab3 Overloading\n",
    "class Calculator:\n",
    "    def add(self,*args):\n",
    "        return sum(args)\n",
    "\n",
    "calc=Calculator()\n",
    "print(\"Result of addition: \",calc.add(10,20))\n",
    "print(\"Result of addition: \",calc.add(10,20,30))"
   ]
  },
  {
   "cell_type": "code",
   "execution_count": null,
   "id": "32f2d3c8-f4bb-47ad-9b99-53711375df38",
   "metadata": {},
   "outputs": [],
   "source": []
  }
 ],
 "metadata": {
  "kernelspec": {
   "display_name": "Python [conda env:base] *",
   "language": "python",
   "name": "conda-base-py"
  },
  "language_info": {
   "codemirror_mode": {
    "name": "ipython",
    "version": 3
   },
   "file_extension": ".py",
   "mimetype": "text/x-python",
   "name": "python",
   "nbconvert_exporter": "python",
   "pygments_lexer": "ipython3",
   "version": "3.12.7"
  }
 },
 "nbformat": 4,
 "nbformat_minor": 5
}
