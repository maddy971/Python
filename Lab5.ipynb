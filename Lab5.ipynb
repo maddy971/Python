{
 "cells": [
  {
   "cell_type": "code",
   "execution_count": 1,
   "id": "e477cd5c-7e77-470b-81f9-c690c39edf1f",
   "metadata": {},
   "outputs": [
    {
     "name": "stdout",
     "output_type": "stream",
     "text": [
      "\n",
      "#creating single dimensional array\n",
      "[4 1 2 3 4 5]\n",
      "<class 'numpy.ndarray'>\n"
     ]
    }
   ],
   "source": [
    "import numpy as np\n",
    "\n",
    "print('\\n#creating single dimensional array')\n",
    "a1=np.array([4,1,2,3,4,5])\n",
    "print(a1)\n",
    "print(type(a1))"
   ]
  },
  {
   "cell_type": "code",
   "execution_count": 5,
   "id": "d2ea6dd4-f3ca-4a13-b9e8-20f8aa5561e0",
   "metadata": {},
   "outputs": [
    {
     "name": "stdout",
     "output_type": "stream",
     "text": [
      "\n",
      "#inserting into 1D array\n",
      "[ 4  1  2 -1  3  4  5]\n"
     ]
    }
   ],
   "source": [
    "print('\\n#inserting into 1D array')\n",
    "a2=np.insert(a1,3,-1)\n",
    "print(a2)"
   ]
  },
  {
   "cell_type": "code",
   "execution_count": 7,
   "id": "c4491b71-2829-452e-908a-9a75952efee4",
   "metadata": {},
   "outputs": [
    {
     "name": "stdout",
     "output_type": "stream",
     "text": [
      "\n",
      "#appending into 1D the array\n",
      "[4 1 2 3 4 5 6]\n"
     ]
    }
   ],
   "source": [
    "print('\\n#appending into 1D the array')\n",
    "a3=np.append(a1,6)\n",
    "print(a3)"
   ]
  },
  {
   "cell_type": "code",
   "execution_count": 9,
   "id": "ef2ed83d-7c8c-48ad-a05a-b3d475626bd8",
   "metadata": {},
   "outputs": [
    {
     "name": "stdout",
     "output_type": "stream",
     "text": [
      "\n",
      "#creating 2D array\n",
      "[[1 2 3]\n",
      " [4 5 6]]\n"
     ]
    }
   ],
   "source": [
    "print('\\n#creating 2D array')\n",
    "a4=np.array([[1,2,3],[4,5,6]])\n",
    "print(a4)"
   ]
  },
  {
   "cell_type": "code",
   "execution_count": 11,
   "id": "e7300e63-94ee-4405-ac4c-a8b685afa919",
   "metadata": {},
   "outputs": [
    {
     "name": "stdout",
     "output_type": "stream",
     "text": [
      "\n",
      "#insert a row into 2D array\n",
      "[[ 9 10 11]\n",
      " [ 1  2  3]\n",
      " [ 4  5  6]]\n"
     ]
    }
   ],
   "source": [
    "print('\\n#insert a row into 2D array')\n",
    "a5=np.insert(a4,0,[[9,10,11]], axis=0)\n",
    "print(a5)"
   ]
  },
  {
   "cell_type": "code",
   "execution_count": 13,
   "id": "cbacab54-65ea-4d4e-b324-8544c018fbc7",
   "metadata": {},
   "outputs": [
    {
     "name": "stdout",
     "output_type": "stream",
     "text": [
      "\n",
      "#append row in 2D\n",
      "[[ 1  2  3]\n",
      " [ 4  5  6]\n",
      " [ 9 10 11]]\n"
     ]
    }
   ],
   "source": [
    "print('\\n#append row in 2D')\n",
    "a6=np.append(a4,[[9,10,11]],axis=0)\n",
    "print(a6)"
   ]
  },
  {
   "cell_type": "code",
   "execution_count": 21,
   "id": "f33f4d1e-3b99-4e8b-9248-8a8bfd8685cc",
   "metadata": {},
   "outputs": [
    {
     "name": "stdout",
     "output_type": "stream",
     "text": [
      "\n",
      "#inserting column in 2D array\n",
      "[[10  1  2  3]\n",
      " [11  4  5  6]]\n"
     ]
    }
   ],
   "source": [
    "print('\\n#inserting column in 2D array')\n",
    "a7=np.insert(a4,0,[10,11],axis=1)\n",
    "print(a7)"
   ]
  },
  {
   "cell_type": "code",
   "execution_count": 23,
   "id": "450a5a5a-8622-4cbd-bd82-6ae8f760200b",
   "metadata": {},
   "outputs": [
    {
     "name": "stdout",
     "output_type": "stream",
     "text": [
      "\n",
      " one dimensional array\n",
      "[4 1 2 3 4 5]\n"
     ]
    }
   ],
   "source": [
    "print('\\n one dimensional array')\n",
    "print(a1)\n"
   ]
  },
  {
   "cell_type": "code",
   "execution_count": 25,
   "id": "209c57e9-ab1c-4b91-ad92-e7d43113d927",
   "metadata": {},
   "outputs": [
    {
     "name": "stdout",
     "output_type": "stream",
     "text": [
      "\n",
      " two dimensional array\n",
      "[[1 2 3]\n",
      " [4 5 6]]\n"
     ]
    }
   ],
   "source": [
    "print('\\n two dimensional array')\n",
    "print(a4)"
   ]
  },
  {
   "cell_type": "code",
   "execution_count": 27,
   "id": "90a56ca7-1e23-41e7-80f1-de831a591f31",
   "metadata": {},
   "outputs": [
    {
     "name": "stdout",
     "output_type": "stream",
     "text": [
      "\n",
      "#searching element in single dimensional array\n",
      "searching...\n",
      "(array([0, 4], dtype=int64),)\n",
      "(array([0, 2, 4], dtype=int64),)\n"
     ]
    }
   ],
   "source": [
    "print('\\n#searching element in single dimensional array')\n",
    "print('searching...')\n",
    "print(np.where(a1==4))\n",
    "print(np.where(a1%2==0))\n"
   ]
  },
  {
   "cell_type": "code",
   "execution_count": 29,
   "id": "17757d1a-fb91-4b7a-8e5b-9631a962b517",
   "metadata": {},
   "outputs": [
    {
     "name": "stdout",
     "output_type": "stream",
     "text": [
      "\n",
      "#sort single dimensional array\n",
      "[1 2 3 4 4 5]\n"
     ]
    }
   ],
   "source": [
    "print('\\n#sort single dimensional array')\n",
    "print(np.sort(a1))"
   ]
  },
  {
   "cell_type": "code",
   "execution_count": 31,
   "id": "02b88b7a-3dc8-4754-b68c-be34cb9d5d12",
   "metadata": {},
   "outputs": [
    {
     "name": "stdout",
     "output_type": "stream",
     "text": [
      "\n",
      "#search in multi dimensional array\n",
      "(array([1], dtype=int64), array([1], dtype=int64))\n",
      "(array([0], dtype=int64), array([1], dtype=int64))\n"
     ]
    }
   ],
   "source": [
    "print('\\n#search in multi dimensional array')\n",
    "print(np.where(a4==5))\n",
    "print(np.where(a4==2))"
   ]
  },
  {
   "cell_type": "code",
   "execution_count": 33,
   "id": "51182b40-b2e7-4674-bd56-e7895a3a5155",
   "metadata": {},
   "outputs": [
    {
     "name": "stdout",
     "output_type": "stream",
     "text": [
      "\n",
      "#sort multi dimensional array\n",
      "[[1 2 3]\n",
      " [4 5 6]]\n"
     ]
    }
   ],
   "source": [
    "print('\\n#sort multi dimensional array')\n",
    "print(np.sort(a4))"
   ]
  },
  {
   "cell_type": "code",
   "execution_count": 35,
   "id": "90e32a17-8e48-4b5f-a748-9abf8c64c4d3",
   "metadata": {},
   "outputs": [
    {
     "name": "stdout",
     "output_type": "stream",
     "text": [
      "\n",
      "#split 2D array\n",
      "[array([[1, 2],\n",
      "       [4, 5]]), array([[3],\n",
      "       [6]])]\n"
     ]
    }
   ],
   "source": [
    "print('\\n#split 2D array')\n",
    "print(np.array_split(a4,2,axis=1))"
   ]
  },
  {
   "cell_type": "code",
   "execution_count": 37,
   "id": "12b59a0e-622e-4bf5-a7fd-7330ee85b313",
   "metadata": {},
   "outputs": [
    {
     "name": "stdout",
     "output_type": "stream",
     "text": [
      "\n",
      "#broadcasting and ploting numpy\n",
      "[ 2  4  6  8 10 12 14 16 18 20]\n"
     ]
    }
   ],
   "source": [
    "print('\\n#broadcasting and ploting numpy')\n",
    "x=np.array([1,2,3,4,5,6,7,8,9,10])\n",
    "x1=x+x\n",
    "print(x1)"
   ]
  },
  {
   "cell_type": "code",
   "execution_count": 39,
   "id": "57174d99-602a-4192-814c-d072b7649e6f",
   "metadata": {},
   "outputs": [
    {
     "name": "stdout",
     "output_type": "stream",
     "text": [
      "[[ 3  4  3]\n",
      " [12 10  6]\n",
      " [21 16  9]]\n"
     ]
    }
   ],
   "source": [
    "a=np.array([[1,2,3],[4,5,6],[7,8,9]])\n",
    "b=np.array([3,2,1])\n",
    "c=a*b\n",
    "print(c)"
   ]
  },
  {
   "cell_type": "code",
   "execution_count": 45,
   "id": "6331425e-921a-4e68-88de-d3ceb374204f",
   "metadata": {},
   "outputs": [
    {
     "name": "stdout",
     "output_type": "stream",
     "text": [
      "[0.5        0.5        1.         0.5        0.14285714]\n",
      "[0.5        0.5        1.         0.5        0.14285714]\n",
      "\n",
      "#plotting\n"
     ]
    },
    {
     "data": {
      "text/plain": [
       "[<matplotlib.lines.Line2D at 0x1ba8f7a3c50>]"
      ]
     },
     "execution_count": 45,
     "metadata": {},
     "output_type": "execute_result"
    },
    {
     "data": {
      "image/png": "[encoded data removed]",
      "text/plain": [
       "<Figure size 640x480 with 1 Axes>"
      ]
     },
     "metadata": {},
     "output_type": "display_data"
    }
   ],
   "source": [
    "def recp(values):\n",
    "    output=np.empty(len(values))\n",
    "    for i in range(len(values)):\n",
    "        output[i]=1.0/values[i]\n",
    "    return output\n",
    "\n",
    "values=np.random.randint(1,10,size=5)\n",
    "print(recp(values))\n",
    "#%timeit recp(values)\n",
    "print(1.0/values)\n",
    "\n",
    "print('\\n#plotting')\n",
    "x=np.array([1,2,3,4,5,6,7,8,9,10,11])\n",
    "y=x*x\n",
    "\n",
    "import matplotlib.pyplot as plt\n",
    "plt.xlabel(\"Number\")\n",
    "plt.ylabel(\"Square of number\")\n",
    "plt.title(\"SQ graph\")\n",
    "plt.plot(x,y,color=\"green\")"
   ]
  },
  {
   "cell_type": "code",
   "execution_count": null,
   "id": "237fc66d-8665-4c4c-8d65-631110ce4356",
   "metadata": {},
   "outputs": [],
   "source": []
  }
 ],
 "metadata": {
  "kernelspec": {
   "display_name": "Python [conda env:base] *",
   "language": "python",
   "name": "conda-base-py"
  },
  "language_info": {
   "codemirror_mode": {
    "name": "ipython",
    "version": 3
   },
   "file_extension": ".py",
   "mimetype": "text/x-python",
   "name": "python",
   "nbconvert_exporter": "python",
   "pygments_lexer": "ipython3",
   "version": "3.12.7"
  }
 },
 "nbformat": 4,
 "nbformat_minor": 5
}
