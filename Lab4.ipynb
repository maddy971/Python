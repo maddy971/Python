{
 "cells": [
  {
   "cell_type": "code",
   "execution_count": 1,
   "id": "1b63ee77-181e-475c-aaee-5473e16b66ed",
   "metadata": {},
   "outputs": [
    {
     "name": "stdout",
     "output_type": "stream",
     "text": [
      "content access with pandas\n",
      "   id     name  salary\n",
      "0   1      Doe   75000\n",
      "1   2    Smith   95000\n",
      "2   3   Taylor   68000\n",
      "3   4    Brown   82000\n",
      "4   5  Johnson  120000\n"
     ]
    }
   ],
   "source": [
    "import pandas as pd\n",
    "data = pd.read_csv(\"emp-1.csv\")\n",
    "df = data\n",
    "\n",
    "#cleaning dataset\n",
    "#1 content access with pandas\n",
    "#extract is,name and salary of first four rows\n",
    "df1=df.loc[0:4,['id','name','salary']]\n",
    "print(\"content access with pandas\")\n",
    "print(df1)"
   ]
  },
  {
   "cell_type": "code",
   "execution_count": 3,
   "id": "e779cb50-b587-43b0-ac9e-708800512e96",
   "metadata": {},
   "outputs": [
    {
     "name": "stdout",
     "output_type": "stream",
     "text": [
      "display rows by horizontal slicing\n",
      "   id First Name     name     dept  Position Date of Birth Date of Joining  \\\n",
      "3   4      Emily    Brown  Finance   Analyst    30-11-1988      05-11-2019   \n",
      "4   5    Michael  Johnson    Sales  Director    23-08-1983      17-01-2010   \n",
      "\n",
      "   salary              Email Address  Contact Number                  Address  \n",
      "3   82000      emily.brown@email.com      1122334455  321 Maple St, City, JKL  \n",
      "4  120000  michael.johnson@email.com      1223344556  654 Birch St, City, MNO  \n"
     ]
    }
   ],
   "source": [
    "#3 display rows by horizontal slicing\n",
    "df2 = df[3:6]\n",
    "print(\"display rows by horizontal slicing\")\n",
    "print(df2)"
   ]
  },
  {
   "cell_type": "code",
   "execution_count": 5,
   "id": "6d2cad65-e59c-45dc-8bb5-9bd9c7f8cff7",
   "metadata": {},
   "outputs": [
    {
     "name": "stdout",
     "output_type": "stream",
     "text": [
      "df.columns\n",
      "Index(['id', 'First Name', 'name', 'dept', 'Position', 'Date of Birth',\n",
      "       'Date of Joining', 'salary', 'Email Address', 'Contact Number',\n",
      "       'Address'],\n",
      "      dtype='object')\n"
     ]
    }
   ],
   "source": [
    "#2 print the column information\n",
    "print(\"df.columns\")\n",
    "print(df.columns)"
   ]
  },
  {
   "cell_type": "code",
   "execution_count": 7,
   "id": "eae2a685-76c3-4d09-9423-043d80ad791c",
   "metadata": {},
   "outputs": [
    {
     "name": "stdout",
     "output_type": "stream",
     "text": [
      "verticle slicing\n",
      "   id  salary\n",
      "0   1   75000\n",
      "1   2   95000\n",
      "2   3   68000\n",
      "3   4   82000\n",
      "4   5  120000\n"
     ]
    }
   ],
   "source": [
    "#verticle slicing\n",
    "print(\"verticle slicing\")\n",
    "df3 = df[['id','salary']]\n",
    "print(df3)"
   ]
  },
  {
   "cell_type": "code",
   "execution_count": 9,
   "id": "b9fd9797-2572-41b6-af55-f360a2a85f6a",
   "metadata": {},
   "outputs": [
    {
     "name": "stdout",
     "output_type": "stream",
     "text": [
      "Dropping first row from the information\n",
      "   id First Name     name     dept   Position Date of Birth Date of Joining  \\\n",
      "1   2       Jane    Smith       IT  Developer    21-09-1985      14-07-2017   \n",
      "3   4      Emily    Brown  Finance    Analyst    30-11-1988      05-11-2019   \n",
      "4   5    Michael  Johnson    Sales   Director    23-08-1983      17-01-2010   \n",
      "\n",
      "   salary              Email Address  Contact Number                  Address  \n",
      "1   95000       jane.smith@email.com      1987654321    456 Oak St, City, DEF  \n",
      "3   82000      emily.brown@email.com      1122334455  321 Maple St, City, JKL  \n",
      "4  120000  michael.johnson@email.com      1223344556  654 Birch St, City, MNO  \n"
     ]
    }
   ],
   "source": [
    "#4 Extract minimum or maximum from the info\n",
    "print(\"Dropping first row from the information\")\n",
    "df4 = df.drop(labels=[0,2],axis=0)\n",
    "print(df4)"
   ]
  },
  {
   "cell_type": "code",
   "execution_count": 11,
   "id": "cf1b63db-ca23-48ce-9925-a46192bad4eb",
   "metadata": {},
   "outputs": [
    {
     "name": "stdout",
     "output_type": "stream",
     "text": [
      "dropping first row from the information\n",
      "   id First Name     name     dept   Position Date of Birth Date of Joining  \\\n",
      "1   2       Jane    Smith       IT  Developer    21-09-1985      14-07-2017   \n",
      "3   4      Emily    Brown  Finance    Analyst    30-11-1988      05-11-2019   \n",
      "4   5    Michael  Johnson    Sales   Director    23-08-1983      17-01-2010   \n",
      "\n",
      "   salary              Email Address  Contact Number                  Address  \n",
      "1   95000       jane.smith@email.com      1987654321    456 Oak St, City, DEF  \n",
      "3   82000      emily.brown@email.com      1122334455  321 Maple St, City, JKL  \n",
      "4  120000  michael.johnson@email.com      1223344556  654 Birch St, City, MNO  \n"
     ]
    }
   ],
   "source": [
    "#5 a)dropping first row from the information\n",
    "print(\"dropping first row from the information\")\n",
    "df4=df.drop(labels=[0,2],axis=0)\n",
    "print(df4)"
   ]
  },
  {
   "cell_type": "code",
   "execution_count": 15,
   "id": "33408339-377d-43ee-8083-875ee15e95c6",
   "metadata": {},
   "outputs": [
    {
     "name": "stdout",
     "output_type": "stream",
     "text": [
      "delete specific columns\n",
      "  First Name     name       dept   Position Date of Birth Date of Joining  \\\n",
      "0       John      Doe         HR    Manager    15-05-1990      22-03-2015   \n",
      "1       Jane    Smith         IT  Developer    21-09-1985      14-07-2017   \n",
      "2       Mark   Taylor  Marketing  Executive    10-02-1992      18-06-2020   \n",
      "3      Emily    Brown    Finance    Analyst    30-11-1988      05-11-2019   \n",
      "4    Michael  Johnson      Sales   Director    23-08-1983      17-01-2010   \n",
      "\n",
      "               Email Address  Contact Number                  Address  \n",
      "0         john.doe@email.com      1234567890    123 Elm St, City, ABC  \n",
      "1       jane.smith@email.com      1987654321    456 Oak St, City, DEF  \n",
      "2      mark.taylor@email.com      1234123456   789 Pine St, City, GHI  \n",
      "3      emily.brown@email.com      1122334455  321 Maple St, City, JKL  \n",
      "4  michael.johnson@email.com      1223344556  654 Birch St, City, MNO  \n"
     ]
    }
   ],
   "source": [
    "#5 b)delete specific columns\n",
    "print(\"delete specific columns\")\n",
    "df5=df.drop(labels=['id','salary'],axis=1)\n",
    "print(df5)"
   ]
  },
  {
   "cell_type": "code",
   "execution_count": 17,
   "id": "6b61b974-53d1-4ec2-a7f2-bb74fdc7b3d0",
   "metadata": {},
   "outputs": [
    {
     "name": "stdout",
     "output_type": "stream",
     "text": [
      "Deleting NaN values\n",
      "   id First Name     name       dept   Position Date of Birth Date of Joining  \\\n",
      "0   1       John      Doe         HR    Manager    15-05-1990      22-03-2015   \n",
      "1   2       Jane    Smith         IT  Developer    21-09-1985      14-07-2017   \n",
      "2   3       Mark   Taylor  Marketing  Executive    10-02-1992      18-06-2020   \n",
      "3   4      Emily    Brown    Finance    Analyst    30-11-1988      05-11-2019   \n",
      "4   5    Michael  Johnson      Sales   Director    23-08-1983      17-01-2010   \n",
      "\n",
      "   salary              Email Address  Contact Number                  Address  \n",
      "0   75000         john.doe@email.com      1234567890    123 Elm St, City, ABC  \n",
      "1   95000       jane.smith@email.com      1987654321    456 Oak St, City, DEF  \n",
      "2   68000      mark.taylor@email.com      1234123456   789 Pine St, City, GHI  \n",
      "3   82000      emily.brown@email.com      1122334455  321 Maple St, City, JKL  \n",
      "4  120000  michael.johnson@email.com      1223344556  654 Birch St, City, MNO  \n"
     ]
    }
   ],
   "source": [
    "#6 deleting NaN values\n",
    "print(\"Deleting NaN values\")\n",
    "df6 = df.dropna()\n",
    "print(df6)"
   ]
  },
  {
   "cell_type": "code",
   "execution_count": 19,
   "id": "3c0b8c75-6623-4748-95f8-4f0f41bebee0",
   "metadata": {},
   "outputs": [
    {
     "name": "stdout",
     "output_type": "stream",
     "text": [
      "row deletion\n",
      "   id First Name     name       dept   Position Date of Birth Date of Joining  \\\n",
      "0   1       John      Doe         HR    Manager    15-05-1990      22-03-2015   \n",
      "1   2       Jane    Smith         IT  Developer    21-09-1985      14-07-2017   \n",
      "2   3       Mark   Taylor  Marketing  Executive    10-02-1992      18-06-2020   \n",
      "3   4      Emily    Brown    Finance    Analyst    30-11-1988      05-11-2019   \n",
      "4   5    Michael  Johnson      Sales   Director    23-08-1983      17-01-2010   \n",
      "\n",
      "   salary              Email Address  Contact Number                  Address  \n",
      "0   75000         john.doe@email.com      1234567890    123 Elm St, City, ABC  \n",
      "1   95000       jane.smith@email.com      1987654321    456 Oak St, City, DEF  \n",
      "2   68000      mark.taylor@email.com      1234123456   789 Pine St, City, GHI  \n",
      "3   82000      emily.brown@email.com      1122334455  321 Maple St, City, JKL  \n",
      "4  120000  michael.johnson@email.com      1223344556  654 Birch St, City, MNO  \n"
     ]
    }
   ],
   "source": [
    "#7row deletion\n",
    "print(\"row deletion\")\n",
    "df7=df.dropna(axis=0,how='any')\n",
    "print(df7)"
   ]
  },
  {
   "cell_type": "code",
   "execution_count": 21,
   "id": "0eb383dc-703e-46e6-9472-b72ed65c4d25",
   "metadata": {},
   "outputs": [
    {
     "name": "stdout",
     "output_type": "stream",
     "text": [
      "column deletion\n",
      "   id First Name     name       dept   Position Date of Birth Date of Joining  \\\n",
      "0   1       John      Doe         HR    Manager    15-05-1990      22-03-2015   \n",
      "1   2       Jane    Smith         IT  Developer    21-09-1985      14-07-2017   \n",
      "2   3       Mark   Taylor  Marketing  Executive    10-02-1992      18-06-2020   \n",
      "3   4      Emily    Brown    Finance    Analyst    30-11-1988      05-11-2019   \n",
      "4   5    Michael  Johnson      Sales   Director    23-08-1983      17-01-2010   \n",
      "\n",
      "   salary              Email Address  Contact Number                  Address  \n",
      "0   75000         john.doe@email.com      1234567890    123 Elm St, City, ABC  \n",
      "1   95000       jane.smith@email.com      1987654321    456 Oak St, City, DEF  \n",
      "2   68000      mark.taylor@email.com      1234123456   789 Pine St, City, GHI  \n",
      "3   82000      emily.brown@email.com      1122334455  321 Maple St, City, JKL  \n",
      "4  120000  michael.johnson@email.com      1223344556  654 Birch St, City, MNO  \n"
     ]
    }
   ],
   "source": [
    "#8column deletion\n",
    "print(\"column deletion\")\n",
    "df8=df.dropna(axis=1,how='all')\n",
    "print(df8)"
   ]
  },
  {
   "cell_type": "code",
   "execution_count": 23,
   "id": "53931165-0f42-4709-bd8f-7b98d1ff7f68",
   "metadata": {},
   "outputs": [
    {
     "name": "stdout",
     "output_type": "stream",
     "text": [
      "[[1 2 3]\n",
      " [4 5 6]]\n",
      "<class 'numpy.ndarray'>\n"
     ]
    }
   ],
   "source": [
    "#dataFrame manipulation using numpy\n",
    "import numpy as np\n",
    "arr1=np.array([[1,2,3],[4,5,6]])\n",
    "print(arr1)\n",
    "print(type(arr1))"
   ]
  },
  {
   "cell_type": "code",
   "execution_count": 25,
   "id": "279aea91-dccf-4e26-b72d-80130da46b9e",
   "metadata": {},
   "outputs": [
    {
     "name": "stdout",
     "output_type": "stream",
     "text": [
      "   c1  c2  c3\n",
      "0   1   2   3\n",
      "1   4   5   6\n",
      "<class 'pandas.core.frame.DataFrame'>\n"
     ]
    }
   ],
   "source": [
    "df1 = pd.DataFrame(arr1,columns=['c1','c2','c3'])\n",
    "print(df1)\n",
    "print(type(df1))"
   ]
  },
  {
   "cell_type": "code",
   "execution_count": null,
   "id": "7e0c75b6-8b66-4942-a183-975cf2bca56a",
   "metadata": {},
   "outputs": [],
   "source": []
  }
 ],
 "metadata": {
  "kernelspec": {
   "display_name": "Python [conda env:base] *",
   "language": "python",
   "name": "conda-base-py"
  },
  "language_info": {
   "codemirror_mode": {
    "name": "ipython",
    "version": 3
   },
   "file_extension": ".py",
   "mimetype": "text/x-python",
   "name": "python",
   "nbconvert_exporter": "python",
   "pygments_lexer": "ipython3",
   "version": "3.12.7"
  }
 },
 "nbformat": 4,
 "nbformat_minor": 5
}
