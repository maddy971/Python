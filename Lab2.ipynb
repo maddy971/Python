{
 "cells": [
  {
   "cell_type": "code",
   "execution_count": 1,
   "id": "619f3514-2e3d-4e87-a078-3add02383c18",
   "metadata": {},
   "outputs": [
    {
     "name": "stdin",
     "output_type": "stream",
     "text": [
      "Enter a element to insert:  11\n"
     ]
    },
    {
     "name": "stdout",
     "output_type": "stream",
     "text": [
      "The updated list is:  [10, 11, 20, 30, 40, 50]\n"
     ]
    }
   ],
   "source": [
    "arr = [10,20,30,40,50]\n",
    "n = int(input(\"Enter a element to insert: \"))\n",
    "i=0\n",
    "while i < len(arr) and arr[i] < n:\n",
    "    i += 1\n",
    "arr.insert(i,n)\n",
    "print(\"The updated list is: \",arr)"
   ]
  },
  {
   "cell_type": "code",
   "execution_count": null,
   "id": "1d3b9b35-44e7-45a2-bcc2-9df5690cc0f0",
   "metadata": {},
   "outputs": [],
   "source": []
  }
 ],
 "metadata": {
  "kernelspec": {
   "display_name": "Python [conda env:base] *",
   "language": "python",
   "name": "conda-base-py"
  },
  "language_info": {
   "codemirror_mode": {
    "name": "ipython",
    "version": 3
   },
   "file_extension": ".py",
   "mimetype": "text/x-python",
   "name": "python",
   "nbconvert_exporter": "python",
   "pygments_lexer": "ipython3",
   "version": "3.12.7"
  }
 },
 "nbformat": 4,
 "nbformat_minor": 5
}
